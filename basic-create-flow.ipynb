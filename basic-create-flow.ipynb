{
 "cells": [
  {
   "cell_type": "markdown",
   "metadata": {},
   "source": [
    "# Create\n",
    "\n",
    "Jina provides a high-level Flow API to simplify building search/index workflows. To create a new Flow:"
   ]
  },
  {
   "cell_type": "code",
   "execution_count": 2,
   "metadata": {},
   "outputs": [
    {
     "name": "stderr",
     "output_type": "stream",
     "text": [
      "/Users/hanxiao/Documents/_jina/jina/importer.py:138: UserWarning: due to the missing dependencies or bad implementations, ['jina.hub.crafters.audio.AudioSlicer', 'jina.hub.crafters.nlp.DeepSegmenter', 'jina.hub.crafters.nlp.PDFExtractorSegmenter', 'jina.hub.crafters.nlp.Sentencizer', 'jina.hub.crafters.nlp.JiebaSegmenter', 'jina.hub.crafters.image.SlidingWindowImageCropper', 'jina.hub.crafters.audio.SlidingWindowAudioSlicer', 'jina.hub.crafters.image.FiveImageCropper', 'jina.hub.encoders.nlp.TransformerTFEncoder', 'jina.hub.crafters.nlp.SlidingWindowSegmenter', 'jina.hub.encoders.nlp.TransformerTorchEncoder', 'jina.hub.crafters.image.RandomImageCropper', 'jina.hub.crafters.image.TorchObjectDetectionSegmenter'] can not be imported if you are using these executors/drivers, they wont work. You can use `jina check` to list all executors and drivers\n",
      "  f'due to the missing dependencies or bad implementations, '\n"
     ]
    }
   ],
   "source": [
    "from jina import Flow\n",
    "f = Flow().add()"
   ]
  },
  {
   "cell_type": "markdown",
   "metadata": {},
   "source": [
    "This creates a simple Flow with one Pod. You can chain multiple .add()s in a single Flow."
   ]
  },
  {
   "cell_type": "code",
   "execution_count": 5,
   "metadata": {},
   "outputs": [
    {
     "data": {
      "text/html": [
       "<img src=\"https://mermaid.ink/svg/JSV7aW5pdDogeyd0aGVtZSc6ICdiYXNlJywgJ3RoZW1lVmFyaWFibGVzJzogeyAncHJpbWFyeUNvbG9yJzogJyMzMkM4Q0QnLCAnZWRnZUxhYmVsQmFja2dyb3VuZCc6JyNmZmYnLCAnY2x1c3RlckJrZyc6ICcjRkZDQzY2J319fSUlCmdyYXBoIExSCmdhdGV3YXkoZ2F0ZXdheSk6OjpHQVRFV0FZIC0tPiB8UFVTSC1QVUxMfHBvZDAocG9kMCk6OjpQT0QKcG9kMChwb2QwKTo6OlBPRCAtLT4gfFBVU0gtUFVMTHxwb2QxKHBvZDEpOjo6UE9ECnBvZDEocG9kMSk6OjpQT0QgLS0+IHxQVVNILVBVTEx8cG9kMihwb2QyKTo6OlBPRApwb2QyKHBvZDIpOjo6UE9EIC0tPiB8UFVTSC1QVUxMfHBvZDMocG9kMyk6OjpQT0QKcG9kMyhwb2QzKTo6OlBPRCAtLT4gfFBVU0gtUFVMTHxnYXRld2F5X0VORChnYXRld2F5KTo6OkdBVEVXQVkKY2xhc3NEZWYgUE9EIGZpbGw6IzMyQzhDRCxzdHJva2U6IzAwOTk5OQpjbGFzc0RlZiBJTlNQRUNUIGZpbGw6I2ZmNjY2Nixjb2xvcjojZmZmCmNsYXNzRGVmIEpPSU5fSU5TUEVDVCBmaWxsOiNmZjY2NjYsY29sb3I6I2ZmZgpjbGFzc0RlZiBHQVRFV0FZIGZpbGw6IzZFNzI3OCxjb2xvcjojZmZmCmNsYXNzRGVmIElOU1BFQ1RfQVVYX1BBU1MgZmlsbDojZmZmLGNvbG9yOiMwMDAsc3Ryb2tlLWRhc2hhcnJheTogNSA1CmNsYXNzRGVmIHBlYSBmaWxsOiMwMDk5OTksc3Ryb2tlOiMxRTZFNzM=\"/>"
      ],
      "text/plain": [
       "<IPython.core.display.Image object>"
      ]
     },
     "metadata": {},
     "output_type": "display_data"
    }
   ],
   "source": [
    "Flow().add().add().add().add()"
   ]
  },
  {
   "cell_type": "code",
   "execution_count": null,
   "metadata": {},
   "outputs": [],
   "source": []
  }
 ],
 "metadata": {
  "kernelspec": {
   "display_name": "Python 3",
   "language": "python",
   "name": "python3"
  },
  "language_info": {
   "codemirror_mode": {
    "name": "ipython",
    "version": 3
   },
   "file_extension": ".py",
   "mimetype": "text/x-python",
   "name": "python",
   "nbconvert_exporter": "python",
   "pygments_lexer": "ipython3",
   "version": "3.7.5"
  }
 },
 "nbformat": 4,
 "nbformat_minor": 4
}
